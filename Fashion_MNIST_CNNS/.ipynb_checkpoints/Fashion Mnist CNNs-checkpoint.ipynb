{
 "cells": [
  {
   "cell_type": "markdown",
   "metadata": {},
   "source": [
    "<p style=\"font-family: Arial; font-size:2.55em;color:purple; font-style:bold\"><br>\n",
    "Fashion-MNIST Classification</p><br>"
   ]
  },
  {
   "cell_type": "code",
   "execution_count": 1,
   "metadata": {},
   "outputs": [
    {
     "name": "stderr",
     "output_type": "stream",
     "text": [
      "Using TensorFlow backend.\n"
     ]
    }
   ],
   "source": [
    "from keras.datasets import fashion_mnist\n",
    "\n",
    "(X_train,Y_train),(X_test, Y_test) = fashion_mnist.load_data()"
   ]
  },
  {
   "cell_type": "markdown",
   "metadata": {},
   "source": [
    "## Visualizing Loaded Data "
   ]
  },
  {
   "cell_type": "code",
   "execution_count": 2,
   "metadata": {},
   "outputs": [
    {
     "data": {
      "image/png": "[encoded data removed]",
      "text/plain": [
       "<Figure size 1440x1440 with 10 Axes>"
      ]
     },
     "metadata": {},
     "output_type": "display_data"
    }
   ],
   "source": [
    "import matplotlib.pyplot as plt\n",
    "%matplotlib inline\n",
    "import matplotlib.cm as cm\n",
    "import numpy as np\n",
    "\n",
    "fig=plt.figure(figsize=(20,20))\n",
    "for i in range(10):\n",
    "    ax=fig.add_subplot(2,5,i+1,xticks=[],yticks=[])\n",
    "    ax.imshow(X_train[i],cmap='gray')\n",
    "    ax.set_title(str(Y_train[i]))"
   ]
  },
  {
   "cell_type": "markdown",
   "metadata": {},
   "source": [
    "## Rescaling Images "
   ]
  },
  {
   "cell_type": "code",
   "execution_count": 3,
   "metadata": {},
   "outputs": [],
   "source": [
    "X_train=X_train.astype('float32')/255\n",
    "X_test=X_test.astype('float32')/255"
   ]
  },
  {
   "cell_type": "markdown",
   "metadata": {},
   "source": [
    "## One-Hot Encoding"
   ]
  },
  {
   "cell_type": "code",
   "execution_count": 4,
   "metadata": {},
   "outputs": [
    {
     "name": "stdout",
     "output_type": "stream",
     "text": [
      "Integer Valued Labels: \n",
      "[9 0 0 3 0 2 7 2 5 5 0 9 5 5 7]\n",
      "One-Hot Labels: \n",
      "[[0. 0. 0. 0. 0. 0. 0. 0. 0. 1.]\n",
      " [1. 0. 0. 0. 0. 0. 0. 0. 0. 0.]\n",
      " [1. 0. 0. 0. 0. 0. 0. 0. 0. 0.]\n",
      " [0. 0. 0. 1. 0. 0. 0. 0. 0. 0.]\n",
      " [1. 0. 0. 0. 0. 0. 0. 0. 0. 0.]\n",
      " [0. 0. 1. 0. 0. 0. 0. 0. 0. 0.]\n",
      " [0. 0. 0. 0. 0. 0. 0. 1. 0. 0.]\n",
      " [0. 0. 1. 0. 0. 0. 0. 0. 0. 0.]\n",
      " [0. 0. 0. 0. 0. 1. 0. 0. 0. 0.]\n",
      " [0. 0. 0. 0. 0. 1. 0. 0. 0. 0.]\n",
      " [1. 0. 0. 0. 0. 0. 0. 0. 0. 0.]\n",
      " [0. 0. 0. 0. 0. 0. 0. 0. 0. 1.]\n",
      " [0. 0. 0. 0. 0. 1. 0. 0. 0. 0.]\n",
      " [0. 0. 0. 0. 0. 1. 0. 0. 0. 0.]\n",
      " [0. 0. 0. 0. 0. 0. 0. 1. 0. 0.]]\n"
     ]
    }
   ],
   "source": [
    "from keras.utils import np_utils\n",
    "\n",
    "print('Integer Valued Labels: ')\n",
    "print(Y_train[:15])\n",
    "\n",
    "y_train_mod = np_utils.to_categorical(Y_train,10)\n",
    "y_test_mod = np_utils.to_categorical(Y_test,10)\n",
    "\n",
    "print('One-Hot Labels: ')\n",
    "print(y_train_mod[:15])\n"
   ]
  },
  {
   "cell_type": "markdown",
   "metadata": {},
   "source": [
    "## Train-Validation Split"
   ]
  },
  {
   "cell_type": "code",
   "execution_count": 5,
   "metadata": {},
   "outputs": [
    {
     "name": "stdout",
     "output_type": "stream",
     "text": [
      "X_train Shape is : (55000, 28, 28, 1)\n",
      "y_train Shape is : (55000, 10)\n"
     ]
    }
   ],
   "source": [
    "(X_train,X_valid)=X_train[5000:],X_train[:5000]\n",
    "(y_train,y_valid)=y_train_mod[5000:],y_train_mod[:5000]\n",
    "\n",
    "X_train = X_train.reshape(X_train.shape[0], 28, 28, 1)\n",
    "X_valid = X_valid.reshape(X_valid.shape[0],28,28,1)\n",
    "print('X_train Shape is :',X_train.shape)\n",
    "print('y_train Shape is :',y_train.shape)\n"
   ]
  },
  {
   "cell_type": "markdown",
   "metadata": {},
   "source": [
    "## Building A CNN Architecture"
   ]
  },
  {
   "cell_type": "code",
   "execution_count": 6,
   "metadata": {},
   "outputs": [
    {
     "name": "stdout",
     "output_type": "stream",
     "text": [
      "Model: \"sequential_1\"\n",
      "_________________________________________________________________\n",
      "Layer (type)                 Output Shape              Param #   \n",
      "=================================================================\n",
      "conv2d_1 (Conv2D)            (None, 28, 28, 16)        160       \n",
      "_________________________________________________________________\n",
      "max_pooling2d_1 (MaxPooling2 (None, 14, 14, 16)        0         \n",
      "_________________________________________________________________\n",
      "batch_normalization_1 (Batch (None, 14, 14, 16)        64        \n",
      "_________________________________________________________________\n",
      "dropout_1 (Dropout)          (None, 14, 14, 16)        0         \n",
      "_________________________________________________________________\n",
      "conv2d_2 (Conv2D)            (None, 14, 14, 32)        4640      \n",
      "_________________________________________________________________\n",
      "max_pooling2d_2 (MaxPooling2 (None, 7, 7, 32)          0         \n",
      "_________________________________________________________________\n",
      "batch_normalization_2 (Batch (None, 7, 7, 32)          128       \n",
      "_________________________________________________________________\n",
      "dropout_2 (Dropout)          (None, 7, 7, 32)          0         \n",
      "_________________________________________________________________\n",
      "conv2d_3 (Conv2D)            (None, 7, 7, 64)          18496     \n",
      "_________________________________________________________________\n",
      "max_pooling2d_3 (MaxPooling2 (None, 3, 3, 64)          0         \n",
      "_________________________________________________________________\n",
      "batch_normalization_3 (Batch (None, 3, 3, 64)          256       \n",
      "_________________________________________________________________\n",
      "dropout_3 (Dropout)          (None, 3, 3, 64)          0         \n",
      "_________________________________________________________________\n",
      "conv2d_4 (Conv2D)            (None, 3, 3, 128)         73856     \n",
      "_________________________________________________________________\n",
      "max_pooling2d_4 (MaxPooling2 (None, 1, 1, 128)         0         \n",
      "_________________________________________________________________\n",
      "batch_normalization_4 (Batch (None, 1, 1, 128)         512       \n",
      "_________________________________________________________________\n",
      "dropout_4 (Dropout)          (None, 1, 1, 128)         0         \n",
      "_________________________________________________________________\n",
      "flatten_1 (Flatten)          (None, 128)               0         \n",
      "_________________________________________________________________\n",
      "dense_1 (Dense)              (None, 512)               66048     \n",
      "_________________________________________________________________\n",
      "dropout_5 (Dropout)          (None, 512)               0         \n",
      "_________________________________________________________________\n",
      "dense_2 (Dense)              (None, 10)                5130      \n",
      "=================================================================\n",
      "Total params: 169,290\n",
      "Trainable params: 168,810\n",
      "Non-trainable params: 480\n",
      "_________________________________________________________________\n"
     ]
    }
   ],
   "source": [
    "from keras.models import Sequential\n",
    "from keras.layers import Dense, Dropout, Convolution2D,MaxPooling2D,Flatten , BatchNormalization\n",
    "\n",
    "cnn_model=Sequential()\n",
    "cnn_model.add(Convolution2D(filters=16,kernel_size=(3,3),padding='same',activation='relu',\n",
    "                           input_shape=(28,28,1)))\n",
    "\n",
    "cnn_model.add(MaxPooling2D((2,2)))\n",
    "cnn_model.add(BatchNormalization())\n",
    "cnn_model.add(Dropout(0.2))\n",
    "\n",
    "cnn_model.add(Convolution2D(filters=32,kernel_size=3,padding='same',activation='relu'))\n",
    "cnn_model.add(MaxPooling2D(pool_size=2))\n",
    "cnn_model.add(BatchNormalization())\n",
    "cnn_model.add(Dropout(0.2))\n",
    "\n",
    "cnn_model.add(Convolution2D(filters=64,kernel_size=3,padding='same',activation='relu'))\n",
    "cnn_model.add(MaxPooling2D(pool_size=2))\n",
    "cnn_model.add(BatchNormalization())\n",
    "cnn_model.add(Dropout(0.2))\n",
    "\n",
    "cnn_model.add(Convolution2D(filters=128,kernel_size=3,padding='same',activation='relu'))\n",
    "cnn_model.add(MaxPooling2D(pool_size=2))\n",
    "cnn_model.add(BatchNormalization())\n",
    "cnn_model.add(Dropout(0.2))\n",
    "\n",
    "cnn_model.add(Flatten())\n",
    "cnn_model.add(Dense(512,activation='relu'))\n",
    "cnn_model.add(Dropout(0.3))\n",
    "cnn_model.add(Dense(10,activation='sigmoid'))\n",
    "\n",
    "cnn_model.summary()\n"
   ]
  },
  {
   "cell_type": "markdown",
   "metadata": {},
   "source": [
    "## Compile Model  "
   ]
  },
  {
   "cell_type": "code",
   "execution_count": 7,
   "metadata": {},
   "outputs": [],
   "source": [
    "cnn_model.compile(loss='categorical_crossentropy', optimizer='adam',\n",
    "                 metrics=['accuracy'])"
   ]
  },
  {
   "cell_type": "markdown",
   "metadata": {},
   "source": [
    "## Training Our Model "
   ]
  },
  {
   "cell_type": "code",
   "execution_count": 9,
   "metadata": {},
   "outputs": [
    {
     "name": "stdout",
     "output_type": "stream",
     "text": [
      "Train on 55000 samples, validate on 5000 samples\n",
      "Epoch 1/10\n",
      " - 64s - loss: 0.3681 - accuracy: 0.8662 - val_loss: 0.3465 - val_accuracy: 0.8800\n",
      "\n",
      "Epoch 00001: val_loss improved from inf to 0.34655, saving model to cnn.fashion.mnist.model.best.hdf5\n",
      "Epoch 2/10\n",
      " - 63s - loss: 0.3318 - accuracy: 0.8803 - val_loss: 0.2581 - val_accuracy: 0.8998\n",
      "\n",
      "Epoch 00002: val_loss improved from 0.34655 to 0.25808, saving model to cnn.fashion.mnist.model.best.hdf5\n",
      "Epoch 3/10\n",
      " - 62s - loss: 0.3086 - accuracy: 0.8877 - val_loss: 0.2407 - val_accuracy: 0.9062\n",
      "\n",
      "Epoch 00003: val_loss improved from 0.25808 to 0.24066, saving model to cnn.fashion.mnist.model.best.hdf5\n",
      "Epoch 4/10\n",
      " - 62s - loss: 0.2910 - accuracy: 0.8928 - val_loss: 0.2525 - val_accuracy: 0.9058\n",
      "\n",
      "Epoch 00004: val_loss did not improve from 0.24066\n",
      "Epoch 5/10\n",
      " - 62s - loss: 0.2829 - accuracy: 0.8969 - val_loss: 0.2476 - val_accuracy: 0.9144\n",
      "\n",
      "Epoch 00005: val_loss did not improve from 0.24066\n",
      "Epoch 6/10\n",
      " - 62s - loss: 0.2715 - accuracy: 0.9011 - val_loss: 0.2323 - val_accuracy: 0.9142\n",
      "\n",
      "Epoch 00006: val_loss improved from 0.24066 to 0.23229, saving model to cnn.fashion.mnist.model.best.hdf5\n",
      "Epoch 7/10\n",
      " - 62s - loss: 0.2644 - accuracy: 0.9034 - val_loss: 0.2296 - val_accuracy: 0.9140\n",
      "\n",
      "Epoch 00007: val_loss improved from 0.23229 to 0.22961, saving model to cnn.fashion.mnist.model.best.hdf5\n",
      "Epoch 8/10\n",
      " - 64s - loss: 0.2581 - accuracy: 0.9055 - val_loss: 0.2590 - val_accuracy: 0.9002\n",
      "\n",
      "Epoch 00008: val_loss did not improve from 0.22961\n",
      "Epoch 9/10\n",
      " - 65s - loss: 0.2537 - accuracy: 0.9071 - val_loss: 0.2217 - val_accuracy: 0.9170\n",
      "\n",
      "Epoch 00009: val_loss improved from 0.22961 to 0.22170, saving model to cnn.fashion.mnist.model.best.hdf5\n",
      "Epoch 10/10\n",
      " - 62s - loss: 0.2457 - accuracy: 0.9105 - val_loss: 0.2141 - val_accuracy: 0.9202\n",
      "\n",
      "Epoch 00010: val_loss improved from 0.22170 to 0.21415, saving model to cnn.fashion.mnist.model.best.hdf5\n"
     ]
    }
   ],
   "source": [
    "from keras.callbacks import ModelCheckpoint\n",
    "\n",
    "checkpointer= ModelCheckpoint(filepath='cnn.fashion.mnist.model.best.hdf5',\n",
    "                             verbose=1,save_best_only=True,\n",
    "                             )\n",
    "\n",
    "hist=cnn_model.fit(X_train,y_train,batch_size=32,epochs=10,\n",
    "                  validation_data=(X_valid,y_valid),callbacks=[checkpointer],\n",
    "                  verbose=2,shuffle=True)"
   ]
  },
  {
   "cell_type": "markdown",
   "metadata": {},
   "source": [
    "* Plotting Loss and Accuracy over validation data during training."
   ]
  },
  {
   "cell_type": "code",
   "execution_count": 11,
   "metadata": {},
   "outputs": [
    {
     "data": {
      "image/png": "[encoded data removed]",
      "text/plain": [
       "<Figure size 432x288 with 1 Axes>"
      ]
     },
     "metadata": {
      "needs_background": "light"
     },
     "output_type": "display_data"
    },
    {
     "data": {
      "image/png": "[encoded data removed]",
      "text/plain": [
       "<Figure size 432x288 with 1 Axes>"
      ]
     },
     "metadata": {
      "needs_background": "light"
     },
     "output_type": "display_data"
    }
   ],
   "source": [
    "import matplotlib.pyplot as plt\n",
    "\n",
    "acc = hist.history['accuracy']\n",
    "val_acc = hist.history['val_accuracy']\n",
    "loss = hist.history['loss']\n",
    "val_loss = hist.history['val_loss']\n",
    "\n",
    "epochs = range(len(acc))\n",
    "\n",
    "plt.plot(epochs, acc, 'bo', label='Training acc')\n",
    "plt.plot(epochs, val_acc, 'b', label='Validation acc')\n",
    "plt.title('Training and validation accuracy')\n",
    "plt.legend()\n",
    "\n",
    "plt.figure()\n",
    "\n",
    "plt.plot(epochs, loss, 'bo', label='Training loss')\n",
    "plt.plot(epochs, val_loss, 'b', label='Validation loss')\n",
    "plt.title('Training and validation loss')\n",
    "plt.legend()\n",
    "\n",
    "plt.show()"
   ]
  },
  {
   "cell_type": "markdown",
   "metadata": {},
   "source": [
    "### Loading the Learned weights"
   ]
  },
  {
   "cell_type": "code",
   "execution_count": 12,
   "metadata": {},
   "outputs": [],
   "source": [
    "cnn_model.load_weights('cnn.fashion.mnist.model.best.hdf5')"
   ]
  },
  {
   "cell_type": "markdown",
   "metadata": {},
   "source": [
    "### Evaluating on test set"
   ]
  },
  {
   "cell_type": "code",
   "execution_count": 18,
   "metadata": {},
   "outputs": [],
   "source": [
    "X_test = X_test.reshape(X_test.shape[0],28,28,1)\n",
    "y_test = y_test_mod\n"
   ]
  },
  {
   "cell_type": "code",
   "execution_count": 19,
   "metadata": {},
   "outputs": [
    {
     "name": "stdout",
     "output_type": "stream",
     "text": [
      "Test Accuracy: 91.6100%\n"
     ]
    }
   ],
   "source": [
    "score= cnn_model.evaluate(X_test,y_test,verbose=0)\n",
    "accuracy=score[1]*100\n",
    "\n",
    "print('Test Accuracy: %.4f%%'%accuracy)"
   ]
  },
  {
   "cell_type": "code",
   "execution_count": null,
   "metadata": {},
   "outputs": [],
   "source": []
  }
 ],
 "metadata": {
  "kernelspec": {
   "display_name": "Python 3",
   "language": "python",
   "name": "python3"
  },
  "language_info": {
   "codemirror_mode": {
    "name": "ipython",
    "version": 3
   },
   "file_extension": ".py",
   "mimetype": "text/x-python",
   "name": "python",
   "nbconvert_exporter": "python",
   "pygments_lexer": "ipython3",
   "version": "3.7.6"
  }
 },
 "nbformat": 4,
 "nbformat_minor": 4
}
