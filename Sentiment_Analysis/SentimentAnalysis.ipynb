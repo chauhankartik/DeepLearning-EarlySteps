{
 "cells": [
  {
   "cell_type": "markdown",
   "metadata": {},
   "source": [
    "### Necessary Imports"
   ]
  },
  {
   "cell_type": "code",
   "execution_count": 1,
   "metadata": {},
   "outputs": [],
   "source": [
    "import tensorflow as tf\n",
    "from tensorflow.keras import datasets, layers, models, preprocessing\n",
    "import tensorflow_datasets as tfds"
   ]
  },
  {
   "cell_type": "markdown",
   "metadata": {},
   "source": [
    "### Creating Model"
   ]
  },
  {
   "cell_type": "code",
   "execution_count": 2,
   "metadata": {},
   "outputs": [],
   "source": [
    "max_len = 200\n",
    "n_words = 10000\n",
    "dim_embedding = 256\n",
    "epochs = 15\n",
    "batch_size = 256\n"
   ]
  },
  {
   "cell_type": "code",
   "execution_count": 3,
   "metadata": {},
   "outputs": [],
   "source": [
    "def load_data():\n",
    "    (X_train, y_train), (X_test, y_test) = datasets.imdb.load_data(num_words=n_words)\n",
    "    X_train = preprocessing.sequence.pad_sequences(X_train, maxlen=max_len)\n",
    "    X_test = preprocessing.sequence.pad_sequences(X_test, maxlen=max_len)\n",
    "    return (X_train, y_train), (X_test, y_test)"
   ]
  },
  {
   "cell_type": "code",
   "execution_count": 4,
   "metadata": {},
   "outputs": [],
   "source": [
    "def build_model():\n",
    "    model = models.Sequential()\n",
    "    model.add(layers.Embedding(n_words, dim_embedding, input_length=max_len))\n",
    "    model.add(layers.Dropout(0.3))\n",
    "    model.add(layers.GlobalMaxPool1D())\n",
    "    model.add(layers.Dense(128, activation='relu'))\n",
    "    model.add(layers.Dense(1, activation='sigmoid'))\n",
    "    \n",
    "    return model"
   ]
  },
  {
   "cell_type": "markdown",
   "metadata": {},
   "source": [
    "### Training Model"
   ]
  },
  {
   "cell_type": "code",
   "execution_count": 5,
   "metadata": {},
   "outputs": [
    {
     "name": "stdout",
     "output_type": "stream",
     "text": [
      "Model: \"sequential\"\n",
      "_________________________________________________________________\n",
      "Layer (type)                 Output Shape              Param #   \n",
      "=================================================================\n",
      "embedding (Embedding)        (None, 200, 256)          2560000   \n",
      "_________________________________________________________________\n",
      "dropout (Dropout)            (None, 200, 256)          0         \n",
      "_________________________________________________________________\n",
      "global_max_pooling1d (Global (None, 256)               0         \n",
      "_________________________________________________________________\n",
      "dense (Dense)                (None, 128)               32896     \n",
      "_________________________________________________________________\n",
      "dense_1 (Dense)              (None, 1)                 129       \n",
      "=================================================================\n",
      "Total params: 2,593,025\n",
      "Trainable params: 2,593,025\n",
      "Non-trainable params: 0\n",
      "_________________________________________________________________\n"
     ]
    }
   ],
   "source": [
    "# Loading data\n",
    "(X_train, y_train), (X_test, y_test) = load_data()\n",
    "\n",
    "# Building model\n",
    "model = build_model()\n",
    "\n",
    "model.summary()\n"
   ]
  },
  {
   "cell_type": "code",
   "execution_count": 6,
   "metadata": {},
   "outputs": [
    {
     "name": "stdout",
     "output_type": "stream",
     "text": [
      "Train on 25000 samples, validate on 25000 samples\n",
      "25000/25000 [==============================] - 49s 2ms/sample - loss: 0.5642 - accuracy: 0.7585 - val_loss: 0.3678 - val_accuracy: 0.8546\n",
      "25000/25000 [==============================] - 4s 172us/sample - loss: 0.3678 - accuracy: 0.8546\n",
      "\n",
      "Test Score:  0.36779066213607786\n",
      "Test Accuracy:  0.85456\n"
     ]
    }
   ],
   "source": [
    "model.compile(optimizer=\"adam\", \n",
    "             loss=\"binary_crossentropy\",\n",
    "             metrics=[\"accuracy\"])\n",
    "\n",
    "hist = model.fit(X_train, y_train,\n",
    "                batch_size = batch_size,\n",
    "                validation_data = (X_test, y_test),\n",
    "                verbose = 1)\n",
    "\n",
    "score = model.evaluate(X_test, y_test, batch_size = batch_size)\n",
    "print(\"\\nTest Score: \", score[0])\n",
    "print(\"Test Accuracy: \", score[1])\n"
   ]
  }
 ],
 "metadata": {
  "kernelspec": {
   "display_name": "Python 3",
   "language": "python",
   "name": "python3"
  },
  "language_info": {
   "codemirror_mode": {
    "name": "ipython",
    "version": 3
   },
   "file_extension": ".py",
   "mimetype": "text/x-python",
   "name": "python",
   "nbconvert_exporter": "python",
   "pygments_lexer": "ipython3",
   "version": "3.7.6"
  }
 },
 "nbformat": 4,
 "nbformat_minor": 4
}
