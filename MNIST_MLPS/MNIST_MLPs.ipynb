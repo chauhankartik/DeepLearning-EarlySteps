{
 "cells": [
  {
   "cell_type": "markdown",
   "metadata": {},
   "source": [
    "# Building A Simple HandWritten Digits Classifier Using MLPs\n",
    "\n",
    "### Loading MNIST DataBase\n"
   ]
  },
  {
   "cell_type": "code",
   "execution_count": 1,
   "metadata": {},
   "outputs": [
    {
     "name": "stderr",
     "output_type": "stream",
     "text": [
      "Using TensorFlow backend.\n"
     ]
    }
   ],
   "source": [
    "from keras.datasets import mnist\n",
    "\n",
    "(X_train,y_train),(X_test,y_test)= mnist.load_data()"
   ]
  },
  {
   "cell_type": "markdown",
   "metadata": {},
   "source": [
    "# Visualizing Loaded Data "
   ]
  },
  {
   "cell_type": "code",
   "execution_count": 2,
   "metadata": {},
   "outputs": [
    {
     "data": {
      "image/png": "[encoded data removed]",
      "text/plain": [
       "<Figure size 1440x1440 with 7 Axes>"
      ]
     },
     "metadata": {},
     "output_type": "display_data"
    }
   ],
   "source": [
    "import matplotlib.pyplot as plt\n",
    "%matplotlib inline\n",
    "import matplotlib.cm as cm\n",
    "import numpy as np\n",
    "\n",
    "fig=plt.figure(figsize=(20,20))\n",
    "for i in range(7):\n",
    "    ax=fig.add_subplot(1,7,i+1,xticks=[],yticks=[])\n",
    "    ax.imshow(X_train[i],cmap='gray')\n",
    "    ax.set_title(str(y_train[i]))\n",
    "    "
   ]
  },
  {
   "cell_type": "markdown",
   "metadata": {},
   "source": [
    "# Rescaling Images  "
   ]
  },
  {
   "cell_type": "code",
   "execution_count": 3,
   "metadata": {},
   "outputs": [],
   "source": [
    "X_train=X_train.astype('float32')/255\n",
    "X_test=X_test.astype('float32')/255"
   ]
  },
  {
   "cell_type": "markdown",
   "metadata": {},
   "source": [
    "# One-Hot Encoding"
   ]
  },
  {
   "cell_type": "code",
   "execution_count": 8,
   "metadata": {},
   "outputs": [
    {
     "name": "stdout",
     "output_type": "stream",
     "text": [
      "Integer Valued Labels: \n",
      "[5 0 4 1 9 2 1 3 1 4 3 5 3 6 1]\n",
      "One-Hot Labels: \n",
      "[[0. 0. 0. 0. 0. 1. 0. 0. 0. 0.]\n",
      " [1. 0. 0. 0. 0. 0. 0. 0. 0. 0.]\n",
      " [0. 0. 0. 0. 1. 0. 0. 0. 0. 0.]\n",
      " [0. 1. 0. 0. 0. 0. 0. 0. 0. 0.]\n",
      " [0. 0. 0. 0. 0. 0. 0. 0. 0. 1.]\n",
      " [0. 0. 1. 0. 0. 0. 0. 0. 0. 0.]\n",
      " [0. 1. 0. 0. 0. 0. 0. 0. 0. 0.]\n",
      " [0. 0. 0. 1. 0. 0. 0. 0. 0. 0.]\n",
      " [0. 1. 0. 0. 0. 0. 0. 0. 0. 0.]\n",
      " [0. 0. 0. 0. 1. 0. 0. 0. 0. 0.]\n",
      " [0. 0. 0. 1. 0. 0. 0. 0. 0. 0.]\n",
      " [0. 0. 0. 0. 0. 1. 0. 0. 0. 0.]\n",
      " [0. 0. 0. 1. 0. 0. 0. 0. 0. 0.]\n",
      " [0. 0. 0. 0. 0. 0. 1. 0. 0. 0.]\n",
      " [0. 1. 0. 0. 0. 0. 0. 0. 0. 0.]]\n"
     ]
    }
   ],
   "source": [
    "from keras.utils import np_utils\n",
    "\n",
    "print('Integer Valued Labels: ')\n",
    "print(y_train[:15])\n",
    "\n",
    "y_train_mod = np_utils.to_categorical(y_train,10)\n",
    "y_test_mod = np_utils.to_categorical(y_test,10)\n",
    "\n",
    "print('One-Hot Labels: ')\n",
    "print(y_train_mod[:15])\n"
   ]
  },
  {
   "cell_type": "markdown",
   "metadata": {},
   "source": [
    "# Building A MLP Architecture"
   ]
  },
  {
   "cell_type": "code",
   "execution_count": 14,
   "metadata": {},
   "outputs": [
    {
     "name": "stdout",
     "output_type": "stream",
     "text": [
      "Model: \"sequential_5\"\n",
      "_________________________________________________________________\n",
      "Layer (type)                 Output Shape              Param #   \n",
      "=================================================================\n",
      "flatten_5 (Flatten)          (None, 784)               0         \n",
      "_________________________________________________________________\n",
      "dense_9 (Dense)              (None, 512)               401920    \n",
      "_________________________________________________________________\n",
      "dropout_1 (Dropout)          (None, 512)               0         \n",
      "_________________________________________________________________\n",
      "dense_10 (Dense)             (None, 512)               262656    \n",
      "_________________________________________________________________\n",
      "dropout_2 (Dropout)          (None, 512)               0         \n",
      "_________________________________________________________________\n",
      "dense_11 (Dense)             (None, 10)                5130      \n",
      "=================================================================\n",
      "Total params: 669,706\n",
      "Trainable params: 669,706\n",
      "Non-trainable params: 0\n",
      "_________________________________________________________________\n"
     ]
    }
   ],
   "source": [
    "from keras.models import Sequential\n",
    "from keras.layers import Dense,Flatten,Dropout\n",
    "\n",
    "mlp_model=Sequential()\n",
    "mlp_model.add(Flatten(input_shape=X_train.shape[1:]))\n",
    "mlp_model.add(Dense(512,activation='relu'))\n",
    "mlp_model.add(Dropout(0.2))\n",
    "mlp_model.add(Dense(512,activation='relu'))\n",
    "mlp_model.add(Dropout(0.3))\n",
    "mlp_model.add(Dense(10,activation='softmax'))\n",
    "\n",
    "mlp_model.summary()\n",
    "\n"
   ]
  },
  {
   "cell_type": "markdown",
   "metadata": {},
   "source": [
    "# Compiling Our Model"
   ]
  },
  {
   "cell_type": "code",
   "execution_count": 16,
   "metadata": {},
   "outputs": [],
   "source": [
    "mlp_model.compile(loss='categorical_crossentropy',optimizer='rmsprop',metrics=['accuracy'])\n"
   ]
  },
  {
   "cell_type": "markdown",
   "metadata": {},
   "source": [
    "# Calculating Accuracy without training "
   ]
  },
  {
   "cell_type": "code",
   "execution_count": 19,
   "metadata": {},
   "outputs": [
    {
     "name": "stdout",
     "output_type": "stream",
     "text": [
      "Test Accuracy: 10.4600%\n"
     ]
    }
   ],
   "source": [
    "score= mlp_model.evaluate(X_test,y_test_mod,verbose=0)\n",
    "accuracy=score[1]*100\n",
    "\n",
    "print('Test Accuracy: %.4f%%'%accuracy)"
   ]
  },
  {
   "cell_type": "markdown",
   "metadata": {},
   "source": [
    "# Train The Model\n"
   ]
  },
  {
   "cell_type": "code",
   "execution_count": 21,
   "metadata": {},
   "outputs": [
    {
     "name": "stdout",
     "output_type": "stream",
     "text": [
      "Train on 48000 samples, validate on 12000 samples\n",
      "Epoch 1/10\n",
      "48000/48000 [==============================] - 9s 197us/step - loss: 0.2765 - accuracy: 0.9156 - val_loss: 0.1234 - val_accuracy: 0.9639\n",
      "\n",
      "Epoch 00001: val_loss improved from inf to 0.12345, saving model to mnist.model.best.hdf5\n",
      "Epoch 2/10\n",
      "48000/48000 [==============================] - 7s 155us/step - loss: 0.1152 - accuracy: 0.9657 - val_loss: 0.1052 - val_accuracy: 0.9700\n",
      "\n",
      "Epoch 00002: val_loss improved from 0.12345 to 0.10520, saving model to mnist.model.best.hdf5\n",
      "Epoch 3/10\n",
      "48000/48000 [==============================] - 7s 154us/step - loss: 0.0807 - accuracy: 0.9757 - val_loss: 0.0973 - val_accuracy: 0.9722\n",
      "\n",
      "Epoch 00003: val_loss improved from 0.10520 to 0.09727, saving model to mnist.model.best.hdf5\n",
      "Epoch 4/10\n",
      "48000/48000 [==============================] - 7s 154us/step - loss: 0.0645 - accuracy: 0.9804 - val_loss: 0.0949 - val_accuracy: 0.9755\n",
      "\n",
      "Epoch 00004: val_loss improved from 0.09727 to 0.09489, saving model to mnist.model.best.hdf5\n",
      "Epoch 5/10\n",
      "48000/48000 [==============================] - 8s 167us/step - loss: 0.0535 - accuracy: 0.9833 - val_loss: 0.0949 - val_accuracy: 0.9762\n",
      "\n",
      "Epoch 00005: val_loss did not improve from 0.09489\n",
      "Epoch 6/10\n",
      "48000/48000 [==============================] - 8s 172us/step - loss: 0.0475 - accuracy: 0.9852 - val_loss: 0.0907 - val_accuracy: 0.9789\n",
      "\n",
      "Epoch 00006: val_loss improved from 0.09489 to 0.09066, saving model to mnist.model.best.hdf5\n",
      "Epoch 7/10\n",
      "48000/48000 [==============================] - 8s 159us/step - loss: 0.0379 - accuracy: 0.9889 - val_loss: 0.1024 - val_accuracy: 0.9779\n",
      "\n",
      "Epoch 00007: val_loss did not improve from 0.09066\n",
      "Epoch 8/10\n",
      "48000/48000 [==============================] - 7s 153us/step - loss: 0.0354 - accuracy: 0.9897 - val_loss: 0.1114 - val_accuracy: 0.9778\n",
      "\n",
      "Epoch 00008: val_loss did not improve from 0.09066\n",
      "Epoch 9/10\n",
      "48000/48000 [==============================] - 8s 156us/step - loss: 0.0333 - accuracy: 0.9899 - val_loss: 0.0995 - val_accuracy: 0.9807\n",
      "\n",
      "Epoch 00009: val_loss did not improve from 0.09066\n",
      "Epoch 10/10\n",
      "48000/48000 [==============================] - 8s 161us/step - loss: 0.0270 - accuracy: 0.9916 - val_loss: 0.1226 - val_accuracy: 0.9782\n",
      "\n",
      "Epoch 00010: val_loss did not improve from 0.09066\n"
     ]
    }
   ],
   "source": [
    "from keras.callbacks import ModelCheckpoint\n",
    "\n",
    "checkpointer= ModelCheckpoint(filepath='mnist.model.best.hdf5',\n",
    "                             verbose=1,save_best_only=True,\n",
    "                             )\n",
    "\n",
    "hist=mlp_model.fit(X_train,y_train_mod,batch_size=128,epochs=10,\n",
    "                  validation_split=0.2,callbacks=[checkpointer],\n",
    "                  verbose=1,shuffle=True) #verbose=1 lets u know when the weights are updated during the training.\n",
    "\n",
    "\n"
   ]
  },
  {
   "cell_type": "markdown",
   "metadata": {},
   "source": [
    "# Loading the model with learned weights "
   ]
  },
  {
   "cell_type": "markdown",
   "metadata": {},
   "source": [
    "It should be noted that the this is the best set of weights that were learned in the 6th Epoch. After that validication accuracy started decreasing."
   ]
  },
  {
   "cell_type": "code",
   "execution_count": 22,
   "metadata": {},
   "outputs": [],
   "source": [
    "mlp_model.load_weights('mnist.model.best.hdf5')\n"
   ]
  },
  {
   "cell_type": "markdown",
   "metadata": {},
   "source": [
    "# Calculating Classification Accuracy on test set "
   ]
  },
  {
   "cell_type": "code",
   "execution_count": 23,
   "metadata": {},
   "outputs": [
    {
     "name": "stdout",
     "output_type": "stream",
     "text": [
      "Test Accuracy: 98.1800%\n"
     ]
    }
   ],
   "source": [
    "score= mlp_model.evaluate(X_test,y_test_mod,verbose=0)\n",
    "accuracy=score[1]*100\n",
    "\n",
    "print('Test Accuracy: %.4f%%'%accuracy)"
   ]
  }
 ],
 "metadata": {
  "kernelspec": {
   "display_name": "Python 3",
   "language": "python",
   "name": "python3"
  },
  "language_info": {
   "codemirror_mode": {
    "name": "ipython",
    "version": 3
   },
   "file_extension": ".py",
   "mimetype": "text/x-python",
   "name": "python",
   "nbconvert_exporter": "python",
   "pygments_lexer": "ipython3",
   "version": "3.7.5"
  }
 },
 "nbformat": 4,
 "nbformat_minor": 2
}
