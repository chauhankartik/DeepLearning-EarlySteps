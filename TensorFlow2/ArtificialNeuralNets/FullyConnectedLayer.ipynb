{
 "cells": [
  {
   "cell_type": "markdown",
   "metadata": {},
   "source": [
    "### Layer Model"
   ]
  },
  {
   "cell_type": "code",
   "execution_count": 3,
   "metadata": {},
   "outputs": [],
   "source": [
    "import numpy as np\n",
    "\n",
    "class FullyConnectedLayer(object):\n",
    "    \"\"\"A simple fully connected NN Layer.\n",
    "    Args:\n",
    "        num_inputs (int): The input vector size.\n",
    "        layer_size (int): Number of ouput vectors/ neurons.\n",
    "        activation_fin (callable): The activation function for this layer.\n",
    "        \n",
    "    Attributes:\n",
    "        W (ndarray): The weight vector.\n",
    "        b (ndarray): The bias value.\n",
    "        activation_fn (callable): The activation function.\n",
    "        size (int): Number of neurons in this layer.\"\"\"\n",
    "    \n",
    "    def __init__(self, num_inputs, layer_size, activation_fn):\n",
    "        super().__init__()\n",
    "        # Random weight Initialization\n",
    "        self.W = np.random.standard_normal((num_inputs, layer_size))\n",
    "        self.b = np.random.standard_normal(layer_size)\n",
    "        self.size = layer_size\n",
    "        self.activation_fn = activation_fn\n",
    "            \n",
    "    def propagate(self, x):\n",
    "        \"\"\"Forward Propagation in Neuron Layer\"\"\"\n",
    "        z = np.dot(x, self.W) + self.b\n",
    "        return self.activation_fn(z)\n",
    "    \n",
    "        \n",
    "            "
   ]
  },
  {
   "cell_type": "markdown",
   "metadata": {},
   "source": [
    "### Activation function "
   ]
  },
  {
   "cell_type": "code",
   "execution_count": 17,
   "metadata": {},
   "outputs": [],
   "source": [
    "relu = lambda q: np.maximum(q, 0) \n",
    "    "
   ]
  },
  {
   "cell_type": "markdown",
   "metadata": {},
   "source": [
    "### Instantiating a layer from layer class"
   ]
  },
  {
   "cell_type": "code",
   "execution_count": 19,
   "metadata": {},
   "outputs": [
    {
     "name": "stdout",
     "output_type": "stream",
     "text": [
      "x1 is : [[-0.25091976  0.90142861]]\n",
      "x2 is : [[0.46398788 0.19731697]]\n",
      "\n",
      "Prediction for x1 : [[0. 0. 0. 0.]]\n",
      "\n",
      "Prediction for x2 : [[0.04068268 0.         0.         0.        ]]\n",
      "\n",
      "Prediction of input_vec is:\n",
      " [[0.         0.         0.         0.        ]\n",
      " [0.04068268 0.         0.         0.        ]]\n"
     ]
    }
   ],
   "source": [
    "np.random.seed(42)\n",
    "\n",
    "x1 = np.random.uniform(-1, 1, 2).reshape(1,2)\n",
    "print(\"x1 is :\", x1)\n",
    "x2 = np.random.uniform(-1, 1, 2).reshape(1,2)\n",
    "print(\"x2 is :\", x2)\n",
    "\n",
    "\n",
    "layer = FullyConnectedLayer(2, 4, activation_fn=relu)\n",
    "output1 = layer.propagate(x1)\n",
    "output2 = layer.propagate(x2)\n",
    "\n",
    "print(\"\\nPrediction for x1 :\", output1)\n",
    "print(\"\\nPrediction for x2 :\", output2)\n",
    "\n",
    "# Stacking the input vectors\n",
    "\n",
    "input_Vec = np.concatenate((x1, x2))\n",
    "output3 = layer.propagate(input_Vec)\n",
    "print(\"\\nPrediction of input_vec is:\\n\", output3)"
   ]
  },
  {
   "cell_type": "code",
   "execution_count": null,
   "metadata": {},
   "outputs": [],
   "source": []
  }
 ],
 "metadata": {
  "kernelspec": {
   "display_name": "Python 3",
   "language": "python",
   "name": "python3"
  },
  "language_info": {
   "codemirror_mode": {
    "name": "ipython",
    "version": 3
   },
   "file_extension": ".py",
   "mimetype": "text/x-python",
   "name": "python",
   "nbconvert_exporter": "python",
   "pygments_lexer": "ipython3",
   "version": "3.7.6"
  }
 },
 "nbformat": 4,
 "nbformat_minor": 4
}
