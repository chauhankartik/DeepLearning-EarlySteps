{
 "cells": [
  {
   "cell_type": "markdown",
   "metadata": {},
   "source": [
    "### Necessary Imports "
   ]
  },
  {
   "cell_type": "code",
   "execution_count": 1,
   "metadata": {},
   "outputs": [],
   "source": [
    "import tensorflow as tf\n",
    "from tensorflow.keras import datasets, layers, models, optimizers\n",
    "import numpy as np\n"
   ]
  },
  {
   "cell_type": "markdown",
   "metadata": {},
   "source": [
    "### Constants "
   ]
  },
  {
   "cell_type": "code",
   "execution_count": 2,
   "metadata": {},
   "outputs": [],
   "source": [
    "img_channels = 3\n",
    "img_rows = 32\n",
    "img_cols = 32\n",
    "batch_size = 128\n",
    "epochs = 20\n",
    "classes = 10\n",
    "validation_split = 0.2\n",
    "optimizer = tf.keras.optimizers.Adam()\n",
    "\n"
   ]
  },
  {
   "cell_type": "markdown",
   "metadata": {},
   "source": [
    "### Model Definition"
   ]
  },
  {
   "cell_type": "code",
   "execution_count": 25,
   "metadata": {},
   "outputs": [],
   "source": [
    "def build(input_shape, classes):\n",
    "    \n",
    "    model = models.Sequential()\n",
    "    \n",
    "    # Conv2D => Conv2D => Pooling => Dropout\n",
    "    model.add(layers.Conv2D(32, (3,3), padding='same', \n",
    "                           input_shape=X_train.shape[1:],\n",
    "                           activation='relu'))\n",
    "    model.add(layers.BatchNormalization())\n",
    "    model.add(layers.Conv2D(32, (3,3), padding='same',\n",
    "                           activation='relu'))\n",
    "    model.add(layers.BatchNormalization())\n",
    "    model.add(layers.MaxPool2D(pool_size=(2,2)))\n",
    "    model.add(layers.Dropout(0.25))\n",
    "    \n",
    "    \n",
    "    # Conv2D => Conv2D => Pooling => Dropout\n",
    "    model.add(layers.Conv2D(64, (3,3), padding='same', \n",
    "                           activation='relu'))\n",
    "    model.add(layers.BatchNormalization())\n",
    "    model.add(layers.Conv2D(64, (3,3), padding='same',\n",
    "                           activation='relu'))\n",
    "    model.add(layers.BatchNormalization())\n",
    "    model.add(layers.MaxPool2D(pool_size=(2,2)))\n",
    "    model.add(layers.Dropout(0.25))\n",
    "    \n",
    "    \n",
    "    # Conv2D => Conv2D => Pooling => Dropout\n",
    "    model.add(layers.Conv2D(128, (3,3), padding='same', \n",
    "                           activation='relu'))\n",
    "    model.add(layers.BatchNormalization())\n",
    "    model.add(layers.Conv2D(128, (3,3), padding='same',\n",
    "                           activation='relu'))\n",
    "    model.add(layers.BatchNormalization())\n",
    "    model.add(layers.MaxPool2D(pool_size=(2,2)))\n",
    "    model.add(layers.Dropout(0.25))\n",
    "    \n",
    "    \n",
    "    # Flatten => Dropout => Dense => Dense\n",
    "    \n",
    "    model.add(layers.Flatten())\n",
    "    model.add(layers.Dropout(0.2))\n",
    "    model.add(layers.Dense(512, activation='relu'))\n",
    "    model.add(layers.Dense(classes, activation='softmax'))\n",
    "    \n",
    "    return model"
   ]
  },
  {
   "cell_type": "markdown",
   "metadata": {},
   "source": [
    "###  Loading Data"
   ]
  },
  {
   "cell_type": "code",
   "execution_count": 26,
   "metadata": {},
   "outputs": [],
   "source": [
    "def load_data():\n",
    "    (X_train, y_train), (X_test, y_test) = datasets.cifar10.load_data()\n",
    "    X_train = X_train.astype('float32')\n",
    "    X_test = X_test.astype('float32')\n",
    "    \n",
    "    # Reshape\n",
    "    X_train = X_train.reshape((50000, 32, 32, 3))\n",
    "    X_test = X_test.reshape((10000, 32, 32, 3))\n",
    "    \n",
    "    #normalize\n",
    "    mean = np.mean(X_train, axis=(0, 1, 2, 3))\n",
    "    sdv = np.std(X_train, axis=(0, 1, 2, 3))\n",
    "    X_train = (X_train-mean)/sdv\n",
    "    X_test = (X_test-mean)/sdv\n",
    "\n",
    "    y_train = tf.keras.utils.to_categorical(y_train, num_classes=classes)\n",
    "    y_test = tf.keras.utils.to_categorical(y_test, num_classes=classes)\n",
    "    \n",
    "    return X_train, y_train , X_test, y_test\n",
    "\n",
    "X_train, y_train, X_test, y_test = load_data()"
   ]
  },
  {
   "cell_type": "code",
   "execution_count": 28,
   "metadata": {},
   "outputs": [
    {
     "name": "stdout",
     "output_type": "stream",
     "text": [
      "Model: \"sequential_4\"\n",
      "_________________________________________________________________\n",
      "Layer (type)                 Output Shape              Param #   \n",
      "=================================================================\n",
      "conv2d_9 (Conv2D)            (None, 32, 32, 32)        896       \n",
      "_________________________________________________________________\n",
      "batch_normalization_6 (Batch (None, 32, 32, 32)        128       \n",
      "_________________________________________________________________\n",
      "conv2d_10 (Conv2D)           (None, 32, 32, 32)        9248      \n",
      "_________________________________________________________________\n",
      "batch_normalization_7 (Batch (None, 32, 32, 32)        128       \n",
      "_________________________________________________________________\n",
      "max_pooling2d_3 (MaxPooling2 (None, 16, 16, 32)        0         \n",
      "_________________________________________________________________\n",
      "dropout_4 (Dropout)          (None, 16, 16, 32)        0         \n",
      "_________________________________________________________________\n",
      "conv2d_11 (Conv2D)           (None, 16, 16, 64)        18496     \n",
      "_________________________________________________________________\n",
      "batch_normalization_8 (Batch (None, 16, 16, 64)        256       \n",
      "_________________________________________________________________\n",
      "conv2d_12 (Conv2D)           (None, 16, 16, 64)        36928     \n",
      "_________________________________________________________________\n",
      "batch_normalization_9 (Batch (None, 16, 16, 64)        256       \n",
      "_________________________________________________________________\n",
      "max_pooling2d_4 (MaxPooling2 (None, 8, 8, 64)          0         \n",
      "_________________________________________________________________\n",
      "dropout_5 (Dropout)          (None, 8, 8, 64)          0         \n",
      "_________________________________________________________________\n",
      "conv2d_13 (Conv2D)           (None, 8, 8, 128)         73856     \n",
      "_________________________________________________________________\n",
      "batch_normalization_10 (Batc (None, 8, 8, 128)         512       \n",
      "_________________________________________________________________\n",
      "conv2d_14 (Conv2D)           (None, 8, 8, 128)         147584    \n",
      "_________________________________________________________________\n",
      "batch_normalization_11 (Batc (None, 8, 8, 128)         512       \n",
      "_________________________________________________________________\n",
      "max_pooling2d_5 (MaxPooling2 (None, 4, 4, 128)         0         \n",
      "_________________________________________________________________\n",
      "dropout_6 (Dropout)          (None, 4, 4, 128)         0         \n",
      "_________________________________________________________________\n",
      "flatten_1 (Flatten)          (None, 2048)              0         \n",
      "_________________________________________________________________\n",
      "dropout_7 (Dropout)          (None, 2048)              0         \n",
      "_________________________________________________________________\n",
      "dense_2 (Dense)              (None, 512)               1049088   \n",
      "_________________________________________________________________\n",
      "dense_3 (Dense)              (None, 10)                5130      \n",
      "=================================================================\n",
      "Total params: 1,343,018\n",
      "Trainable params: 1,342,122\n",
      "Non-trainable params: 896\n",
      "_________________________________________________________________\n"
     ]
    }
   ],
   "source": [
    "cifar_model = build(X_train.shape[1:], classes)\n",
    "cifar_model.summary()"
   ]
  },
  {
   "cell_type": "markdown",
   "metadata": {},
   "source": [
    "###  Callback"
   ]
  },
  {
   "cell_type": "code",
   "execution_count": 29,
   "metadata": {},
   "outputs": [],
   "source": [
    "callbacks = [ tf.keras.callbacks.TensorBoard(log_dir='./logs')]\n"
   ]
  },
  {
   "cell_type": "markdown",
   "metadata": {},
   "source": [
    "### DataAugmentation "
   ]
  },
  {
   "cell_type": "code",
   "execution_count": 30,
   "metadata": {},
   "outputs": [],
   "source": [
    "from tensorflow.keras.preprocessing.image import ImageDataGenerator\n",
    "\n",
    "datagen = ImageDataGenerator(\n",
    "            rotation_range=40,\n",
    "            width_shift_range=0.2,\n",
    "            height_shift_range=0.2,\n",
    "            horizontal_flip=True,\n",
    "            shear_range=0.2)\n",
    "\n",
    "datagen.fit(X_train)"
   ]
  },
  {
   "cell_type": "markdown",
   "metadata": {},
   "source": [
    "### Model Compilation "
   ]
  },
  {
   "cell_type": "code",
   "execution_count": 32,
   "metadata": {},
   "outputs": [],
   "source": [
    "cifar_model.compile(loss='categorical_crossentropy', optimizer=optimizer,\n",
    "                   metrics = ['accuracy'])\n"
   ]
  },
  {
   "cell_type": "markdown",
   "metadata": {},
   "source": [
    "### Training  "
   ]
  },
  {
   "cell_type": "code",
   "execution_count": 33,
   "metadata": {},
   "outputs": [
    {
     "name": "stdout",
     "output_type": "stream",
     "text": [
      "WARNING:tensorflow:sample_weight modes were coerced from\n",
      "  ...\n",
      "    to  \n",
      "  ['...']\n",
      "Train for 391 steps, validate on 10000 samples\n",
      "Epoch 1/20\n",
      "391/391 [==============================] - 309s 790ms/step - loss: 1.7585 - accuracy: 0.3761 - val_loss: 1.5533 - val_accuracy: 0.4424\n",
      "Epoch 2/20\n",
      "391/391 [==============================] - 293s 748ms/step - loss: 1.4088 - accuracy: 0.4892 - val_loss: 1.2644 - val_accuracy: 0.5521\n",
      "Epoch 3/20\n",
      "391/391 [==============================] - 292s 747ms/step - loss: 1.2629 - accuracy: 0.5430 - val_loss: 1.3938 - val_accuracy: 0.5465\n",
      "Epoch 4/20\n",
      "391/391 [==============================] - 308s 787ms/step - loss: 1.1662 - accuracy: 0.5839 - val_loss: 1.2678 - val_accuracy: 0.5867\n",
      "Epoch 5/20\n",
      "391/391 [==============================] - 311s 796ms/step - loss: 1.0872 - accuracy: 0.6104 - val_loss: 1.1046 - val_accuracy: 0.6203\n",
      "Epoch 6/20\n",
      "391/391 [==============================] - 302s 772ms/step - loss: 1.0260 - accuracy: 0.6341 - val_loss: 0.9849 - val_accuracy: 0.6634\n",
      "Epoch 7/20\n",
      "391/391 [==============================] - 303s 775ms/step - loss: 0.9753 - accuracy: 0.6552 - val_loss: 0.9225 - val_accuracy: 0.6820\n",
      "Epoch 8/20\n",
      "391/391 [==============================] - 306s 784ms/step - loss: 0.9336 - accuracy: 0.6704 - val_loss: 1.0255 - val_accuracy: 0.6627\n",
      "Epoch 9/20\n",
      "391/391 [==============================] - 297s 760ms/step - loss: 0.9007 - accuracy: 0.6823 - val_loss: 0.9005 - val_accuracy: 0.6944\n",
      "Epoch 10/20\n",
      "391/391 [==============================] - 294s 752ms/step - loss: 0.8734 - accuracy: 0.6915 - val_loss: 0.7927 - val_accuracy: 0.7339\n",
      "Epoch 11/20\n",
      "391/391 [==============================] - 320s 818ms/step - loss: 0.8455 - accuracy: 0.7027 - val_loss: 0.8263 - val_accuracy: 0.7278\n",
      "Epoch 12/20\n",
      "391/391 [==============================] - 350s 896ms/step - loss: 0.8233 - accuracy: 0.7120 - val_loss: 0.7187 - val_accuracy: 0.7570\n",
      "Epoch 13/20\n",
      "391/391 [==============================] - 353s 904ms/step - loss: 0.8085 - accuracy: 0.7177 - val_loss: 0.8289 - val_accuracy: 0.7340\n",
      "Epoch 14/20\n",
      "391/391 [==============================] - 335s 856ms/step - loss: 0.7898 - accuracy: 0.7232 - val_loss: 0.7469 - val_accuracy: 0.7551\n",
      "Epoch 15/20\n",
      "391/391 [==============================] - 322s 824ms/step - loss: 0.7699 - accuracy: 0.7299 - val_loss: 0.6455 - val_accuracy: 0.7842\n",
      "Epoch 16/20\n",
      "391/391 [==============================] - 301s 769ms/step - loss: 0.7660 - accuracy: 0.7351 - val_loss: 0.6503 - val_accuracy: 0.7809\n",
      "Epoch 17/20\n",
      "391/391 [==============================] - 292s 748ms/step - loss: 0.7464 - accuracy: 0.7409 - val_loss: 0.6636 - val_accuracy: 0.7792\n",
      "Epoch 18/20\n",
      "391/391 [==============================] - 286s 732ms/step - loss: 0.7319 - accuracy: 0.7462 - val_loss: 0.6731 - val_accuracy: 0.7712\n",
      "Epoch 19/20\n",
      "391/391 [==============================] - 284s 726ms/step - loss: 0.7184 - accuracy: 0.7504 - val_loss: 0.6951 - val_accuracy: 0.7706\n",
      "Epoch 20/20\n",
      "391/391 [==============================] - 328s 839ms/step - loss: 0.7089 - accuracy: 0.7539 - val_loss: 0.6887 - val_accuracy: 0.7697\n"
     ]
    },
    {
     "ename": "NameError",
     "evalue": "name 'cifar_model_json' is not defined",
     "output_type": "error",
     "traceback": [
      "\u001b[1;31m---------------------------------------------------------------------------\u001b[0m",
      "\u001b[1;31mNameError\u001b[0m                                 Traceback (most recent call last)",
      "\u001b[1;32m<ipython-input-33-c4a29a4d03e0>\u001b[0m in \u001b[0;36m<module>\u001b[1;34m\u001b[0m\n\u001b[0;32m      6\u001b[0m \u001b[1;33m\u001b[0m\u001b[0m\n\u001b[0;32m      7\u001b[0m \u001b[1;32mwith\u001b[0m \u001b[0mopen\u001b[0m\u001b[1;33m(\u001b[0m\u001b[1;34m'model.json'\u001b[0m\u001b[1;33m,\u001b[0m \u001b[1;34m'w'\u001b[0m\u001b[1;33m)\u001b[0m \u001b[1;32mas\u001b[0m \u001b[0mjson_file\u001b[0m\u001b[1;33m:\u001b[0m\u001b[1;33m\u001b[0m\u001b[1;33m\u001b[0m\u001b[0m\n\u001b[1;32m----> 8\u001b[1;33m     \u001b[0mjson_file\u001b[0m\u001b[1;33m.\u001b[0m\u001b[0mwrite\u001b[0m\u001b[1;33m(\u001b[0m\u001b[0mcifar_model_json\u001b[0m\u001b[1;33m)\u001b[0m\u001b[1;33m\u001b[0m\u001b[1;33m\u001b[0m\u001b[0m\n\u001b[0m\u001b[0;32m      9\u001b[0m \u001b[1;33m\u001b[0m\u001b[0m\n\u001b[0;32m     10\u001b[0m \u001b[0mcifar_model\u001b[0m\u001b[1;33m.\u001b[0m\u001b[0msave_weights\u001b[0m\u001b[1;33m(\u001b[0m\u001b[1;34m'model.h5'\u001b[0m\u001b[1;33m)\u001b[0m\u001b[1;33m\u001b[0m\u001b[1;33m\u001b[0m\u001b[0m\n",
      "\u001b[1;31mNameError\u001b[0m: name 'cifar_model_json' is not defined"
     ]
    }
   ],
   "source": [
    "hist = cifar_model.fit_generator(datagen.flow(X_train, y_train,\n",
    "                                       batch_size= batch_size),\n",
    "                          epochs = epochs, verbose=1, validation_data=(X_test, y_test)\n",
    "#save to disk\n"
   ]
  },
  {
   "cell_type": "code",
   "execution_count": 36,
   "metadata": {},
   "outputs": [],
   "source": [
    "model_json = cifar_model.to_json()\n",
    "with open('model.json', 'w') as json_file:\n",
    "    json_file.write(model_json)\n",
    "    \n",
    "cifar_model.save_weights('model.h5')\n",
    "\n"
   ]
  },
  {
   "cell_type": "code",
   "execution_count": null,
   "metadata": {},
   "outputs": [],
   "source": []
  }
 ],
 "metadata": {
  "kernelspec": {
   "display_name": "Python 3",
   "language": "python",
   "name": "python3"
  },
  "language_info": {
   "codemirror_mode": {
    "name": "ipython",
    "version": 3
   },
   "file_extension": ".py",
   "mimetype": "text/x-python",
   "name": "python",
   "nbconvert_exporter": "python",
   "pygments_lexer": "ipython3",
   "version": "3.7.6"
  }
 },
 "nbformat": 4,
 "nbformat_minor": 4
}
