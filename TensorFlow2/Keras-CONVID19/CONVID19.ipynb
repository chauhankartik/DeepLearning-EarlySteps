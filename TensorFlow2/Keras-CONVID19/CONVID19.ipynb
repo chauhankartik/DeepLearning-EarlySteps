{
 "cells": [
  {
   "cell_type": "markdown",
   "metadata": {},
   "source": [
    "### Loading DataSet "
   ]
  },
  {
   "cell_type": "code",
   "execution_count": 1,
   "metadata": {},
   "outputs": [],
   "source": [
    "import pandas as pd\n",
    "import argparse\n",
    "import shutil\n",
    "import os"
   ]
  },
  {
   "cell_type": "code",
   "execution_count": 3,
   "metadata": {},
   "outputs": [],
   "source": [
    "parser = argparse.ArgumentParser()\n",
    "parser.add_argument(\"-c\", \"--covid\", required=True,\n",
    "                  help=\"Path to CONVID dataset\")\n",
    "parser.add_argument(\"-o\",\"--outout\",required=True,\n",
    "                   help=\"Path to Normal image dataset\")\n",
    "args = vars(parser.parse_args([\"-c\",r\"D:\\DeepLearning-EarlyStep\\Keras-CONVID19\\dataset\\covid\",\n",
    "                              \"-o\",r\"D:\\DeepLearning-EarlyStep\\Keras-CONVID19\\dataset\\normal\"]))\n"
   ]
  },
  {
   "cell_type": "code",
   "execution_count": 4,
   "metadata": {},
   "outputs": [],
   "source": [
    "#constructing path to meta csv file\n",
    "csvPath = os.path.sep.join([args[\"covid\"],'metadata.csv'])\n",
    "df = pd.reas"
   ]
  },
  {
   "cell_type": "code",
   "execution_count": null,
   "metadata": {},
   "outputs": [],
   "source": []
  }
 ],
 "metadata": {
  "kernelspec": {
   "display_name": "Python 3",
   "language": "python",
   "name": "python3"
  },
  "language_info": {
   "codemirror_mode": {
    "name": "ipython",
    "version": 3
   },
   "file_extension": ".py",
   "mimetype": "text/x-python",
   "name": "python",
   "nbconvert_exporter": "python",
   "pygments_lexer": "ipython3",
   "version": "3.7.6"
  }
 },
 "nbformat": 4,
 "nbformat_minor": 4
}
