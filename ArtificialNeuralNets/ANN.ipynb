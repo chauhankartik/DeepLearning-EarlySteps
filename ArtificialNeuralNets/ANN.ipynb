{
 "cells": [
  {
   "cell_type": "markdown",
   "metadata": {},
   "source": [
    "### FullyConnected Layer"
   ]
  },
  {
   "cell_type": "code",
   "execution_count": 1,
   "metadata": {},
   "outputs": [],
   "source": [
    "import numpy as np\n",
    "\n",
    "\n",
    "class FullyConnectedLayer(object):\n",
    "    \"\"\"A simple fully connected NN Layer.\n",
    "    Args:\n",
    "        num_inputs (int): The input vector size.\n",
    "        layer_size (int): Number of ouput vectors/ neurons.\n",
    "        activation_fin (callable): The activation function for this layer.\n",
    "        \n",
    "    Attributes:\n",
    "        W (ndarray): The weight vector.\n",
    "        b (ndarray): The bias value.\n",
    "        activation_fn (callable): The activation function.\n",
    "        size (int): Number of neurons in this layer.\"\"\"\n",
    "    \n",
    "    def __init__(self, num_inputs, layer_size, activation_fn):\n",
    "        super().__init__()\n",
    "        # Random weight Initialization\n",
    "        self.W = np.random.standard_normal((num_inputs, layer_size))\n",
    "        self.b = np.random.standard_normal(layer_size)\n",
    "        self.size = layer_size\n",
    "        self.activation_fn = activation_fn\n",
    "            \n",
    "    def propagate(self, x):\n",
    "        \"\"\"Forward Propagation in Neuron Layer\"\"\"\n",
    "        z = np.dot(x, self.W) + self.b\n",
    "        return self.activation_fn(z)\n"
   ]
  },
  {
   "cell_type": "markdown",
   "metadata": {},
   "source": [
    "### Artificial Neural Network"
   ]
  },
  {
   "cell_type": "code",
   "execution_count": 2,
   "metadata": {},
   "outputs": [],
   "source": [
    "class ANN(object):\n",
    "    \"\"\"A simple artificial neural network.\n",
    "    Args=\n",
    "        \n",
    "    Attributes=\n",
    "        \"\"\"\n",
    "    \n",
    "    def __init__(self, num_inputs, num_outputs, activation_fn, hidden_layer_sizes=(64,32)):\n",
    "        super().__init__()\n",
    "        sizes = [num_inputs, *hidden_layer_sizes, num_outputs]\n",
    "        self.layers =  [\n",
    "            FullyConnectedLayer(sizes[i], sizes[i+1], activation_fn=activation_fn) for i in range(len(sizes)-1)\n",
    "        ]\n",
    "        \n",
    "    def propagate(self, x):\n",
    "        \"\"\"Forward the input vector 'x' through the layers.\"\"\"\n",
    "        for layer in self.layers:\n",
    "            x = layer.propagate(x)\n",
    "        return x\n",
    "    \n",
    "    def predict(self, x):\n",
    "        \"\"\"Compute the output corresponding to 'x', and return the index of \n",
    "        the largest output value\"\"\"\n",
    "        estimations = self.propagate(x)\n",
    "        max_ = np.argmax(estimations)\n",
    "        return max_\n",
    "    \n",
    "    def evaluate_accuracy(self, x_val, y_val):\n",
    "        \"\"\"Evaluate the network's accuracy on a validation data\"\"\"\n",
    "        num_corrects = 0\n",
    "        for i in range(len(x_val)):\n",
    "            if self.predict(x_val[i]==y_val[i]):\n",
    "                num_corrects += 1\n",
    "        return num_corrects/len(x_val)\n",
    "    \n",
    "    \n",
    "        "
   ]
  },
  {
   "cell_type": "markdown",
   "metadata": {},
   "source": [
    "### Activation function "
   ]
  },
  {
   "cell_type": "code",
   "execution_count": 3,
   "metadata": {},
   "outputs": [],
   "source": [
    "def sigmoid(x): # Apply the sigmoid function to the elements of x.\n",
    "    return 1 / (1 + np.exp(-x)) \n"
   ]
  },
  {
   "cell_type": "markdown",
   "metadata": {},
   "source": [
    "### Loading MNIST Data "
   ]
  },
  {
   "cell_type": "code",
   "execution_count": 8,
   "metadata": {},
   "outputs": [],
   "source": [
    "import tensorflow as tf\n",
    "from tensorflow.keras.datasets import mnist\n",
    "\n",
    "(X_train, y_train) , (X_test, y_test) = mnist.load_data()\n",
    "X_train, X_test = X_train / 255.0, X_test / 255.0\n",
    "X_train = X_train.reshape(-1, 28*28)\n",
    "X_test = X_test.reshape(-1, 28*28)\n",
    "num_classes = 10\n",
    "\n",
    "# One-Hot encoding\n",
    "\n",
    "y_train = tf.keras.utils.to_categorical(y_train)\n",
    "y_test = tf.keras.utils.to_categorical(y_test)\n",
    "\n"
   ]
  },
  {
   "cell_type": "markdown",
   "metadata": {},
   "source": [
    "### MNIST classifier "
   ]
  },
  {
   "cell_type": "code",
   "execution_count": 9,
   "metadata": {},
   "outputs": [
    {
     "name": "stderr",
     "output_type": "stream",
     "text": [
      "d:\\kcconda\\envs\\tf_env\\lib\\site-packages\\ipykernel_launcher.py:32: DeprecationWarning: elementwise comparison failed; this will raise an error in the future.\n"
     ]
    },
    {
     "name": "stdout",
     "output_type": "stream",
     "text": [
      "accuracy = 100.00%\n"
     ]
    }
   ],
   "source": [
    "# Network for MNIST images, with 2 hidden layers of size 64 and 64:\n",
    "mnist_classifier = ANN(X_train.shape[1], num_outputs=num_classes, activation_fn=sigmoid, hidden_layer_sizes=[64, 32])\n",
    "\n",
    "# Evaluating accuracy without training\n",
    "accuracy = mnist_classifier.evaluate_accuracy(X_test, y_test)\n",
    "print(\"accuracy = {:.2f}%\".format(accuracy * 100))"
   ]
  },
  {
   "cell_type": "code",
   "execution_count": null,
   "metadata": {},
   "outputs": [],
   "source": []
  }
 ],
 "metadata": {
  "kernelspec": {
   "display_name": "Python 3",
   "language": "python",
   "name": "python3"
  },
  "language_info": {
   "codemirror_mode": {
    "name": "ipython",
    "version": 3
   },
   "file_extension": ".py",
   "mimetype": "text/x-python",
   "name": "python",
   "nbconvert_exporter": "python",
   "pygments_lexer": "ipython3",
   "version": "3.7.6"
  }
 },
 "nbformat": 4,
 "nbformat_minor": 4
}
