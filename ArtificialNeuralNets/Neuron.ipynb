{
 "cells": [
  {
   "cell_type": "markdown",
   "metadata": {},
   "source": [
    "### Implementation of a simple neuron"
   ]
  },
  {
   "cell_type": "code",
   "execution_count": 2,
   "metadata": {},
   "outputs": [],
   "source": [
    "import numpy as np\n",
    "\n",
    "class Neuron(object):\n",
    "    \"\"\" A simple neuron.\n",
    "    Args:\n",
    "        num_inputs(int) : The size of input vector\n",
    "        activation_fn(callable) : The activation function used\n",
    "    Attributes:\n",
    "        W (ndarray): The weight array.\n",
    "        b (float): The bias value.\n",
    "        activation_fn (callable) : The activation function.\n",
    "    \"\"\"\n",
    "    \n",
    "    def __init__(self, num_inputs, activation_fn):\n",
    "        super().__init__()\n",
    "        # Random initialization of weights and bias values\n",
    "        self.W = np.random.rand(num_inputs)\n",
    "        self.b = np.random.rand(1)\n",
    "        self.activation_fn = activation_fn\n",
    "        \n",
    "    def propagate(self, x):\n",
    "        \"\"\" Forward Propagation of input in the neuron\"\"\"\n",
    "        z = np.dot(x, self.W) + self.b\n",
    "        return self.activation_fn(z)\n",
    "    "
   ]
  },
  {
   "cell_type": "markdown",
   "metadata": {},
   "source": [
    "### Instantiation of a neuron"
   ]
  },
  {
   "cell_type": "code",
   "execution_count": 3,
   "metadata": {},
   "outputs": [
    {
     "name": "stdout",
     "output_type": "stream",
     "text": [
      "[[0.22199317 0.87073231 0.20671916]]\n"
     ]
    }
   ],
   "source": [
    "np.random.seed(5)\n",
    "\n",
    "# Random input column vector x\n",
    "\n",
    "x = np.random.rand(3).reshape(1,3)\n",
    "print(x)\n",
    "\n"
   ]
  },
  {
   "cell_type": "code",
   "execution_count": 5,
   "metadata": {},
   "outputs": [
    {
     "name": "stdout",
     "output_type": "stream",
     "text": [
      "Neuron Weights (Random) :  [0.51841799 0.2968005  0.18772123]\n",
      "Neuron Bias (Random) : [0.08074127]\n",
      "Predicted output is :  [0.62082841]\n"
     ]
    }
   ],
   "source": [
    "def sigmoid(z):\n",
    "    \"\"\" A famous activation function.\"\"\"\n",
    "    \n",
    "    return 1/(1+np.exp(-z))\n",
    "\n",
    "# Instantiation of neuron\n",
    "\n",
    "neuron = Neuron(num_inputs=x.size, activation_fn=sigmoid)\n",
    "print(\"Neuron Weights (Random) : \", neuron.W )\n",
    "print(\"Neuron Bias (Random) :\", neuron.b)\n",
    "\n",
    "out = neuron.propagate(x)\n",
    "\n",
    "print(\"Predicted output is : \", out)"
   ]
  },
  {
   "cell_type": "code",
   "execution_count": null,
   "metadata": {},
   "outputs": [],
   "source": []
  }
 ],
 "metadata": {
  "kernelspec": {
   "display_name": "Python 3",
   "language": "python",
   "name": "python3"
  },
  "language_info": {
   "codemirror_mode": {
    "name": "ipython",
    "version": 3
   },
   "file_extension": ".py",
   "mimetype": "text/x-python",
   "name": "python",
   "nbconvert_exporter": "python",
   "pygments_lexer": "ipython3",
   "version": "3.7.6"
  }
 },
 "nbformat": 4,
 "nbformat_minor": 4
}
